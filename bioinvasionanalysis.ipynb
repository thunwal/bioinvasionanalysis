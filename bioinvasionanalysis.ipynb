{
 "cells": [
  {
   "cell_type": "code",
   "execution_count": 6,
   "metadata": {},
   "outputs": [],
   "source": [
    "import arcpy\n",
    "from arcpy.sa import *\n",
    "from sys import argv\n",
    "\n",
    "# Environment settings\n",
    "arcpy.env.extent=\"3127728.32064701 1511542.10363147 6425328.32064701 3369742.10363147 PROJCS[\\\"ETRS_1989_LAEA\\\",GEOGCS[\\\"GCS_ETRS_1989\\\",DATUM[\\\"D_ETRS_1989\\\",SPHEROID[\\\"GRS_1980\\\",6378137.0,298.257222101]],PRIMEM[\\\"Greenwich\\\",0.0],UNIT[\\\"Degree\\\",0.0174532925199433]],PROJECTION[\\\"Lambert_Azimuthal_Equal_Area\\\"],PARAMETER[\\\"False_Easting\\\",4321000.0],PARAMETER[\\\"False_Northing\\\",3210000.0],PARAMETER[\\\"Central_Meridian\\\",10.0],PARAMETER[\\\"Latitude_Of_Origin\\\",52.0],UNIT[\\\"Meter\\\",1.0]]\"\n",
    "arcpy.env.snapRaster=r\"Basisdaten\\cost_600m\"\n",
    "arcpy.env.parallelProcessingFactor = \"5\"\n",
    "arcpy.env.overwriteOutput = True\n",
    "arcpy.env.addOutputsToMap = False\n",
    "arcpy.env.autoCancelling = True\n",
    "arcpy.env.scratchWorkspace = r\"C:\\Daten\\Dokumente\\UNIGIS\\ArcGIS Projekte\\p_distanzanalyse\\p_distanzanalyse.gdb\"\n",
    "arcpy.env.workspace = r\"C:\\Daten\\Dokumente\\UNIGIS\\ArcGIS Projekte\\p_distanzanalyse\\p_distanzanalyse.gdb\"\n",
    "\n",
    "# Input\n",
    "all_locations_thinned = \"msculpturalis_occurrence_20230925\"\n",
    "barriers_merged = r\"Barriers\\barriers_merged\"\n",
    "cost_600m = arcpy.Raster(r\"Basisdaten\\cost_600m\")"
   ]
  },
  {
   "cell_type": "code",
   "execution_count": 12,
   "metadata": {},
   "outputs": [],
   "source": [
    "# Function to create Distance Accumulation Surface\n",
    "def DistAcc():\n",
    "    # Check out any necessary licenses.\n",
    "    arcpy.CheckOutExtension(\"spatial\")\n",
    "\n",
    "    for year in range(2009, 2011, 1):\n",
    "        year_str = str(year)\n",
    "        \n",
    "        # Output paths\n",
    "        path_known_locations = fr\"memory\\msculpturalis_before_{year_str}\"\n",
    "        path_dist_acc_raster = fr\"C:\\Daten\\Dokumente\\UNIGIS\\ArcGIS Projekte\\p_distanzanalyse\\p_distanzanalyse.gdb\\msculpturalis_{year_str}_distacc\"\n",
    "        path_back_dir_raster = fr\"C:\\Daten\\Dokumente\\UNIGIS\\ArcGIS Projekte\\p_distanzanalyse\\p_distanzanalyse.gdb\\msculpturalis_{year_str}_backdir\"\n",
    "        \n",
    "        # Select locations known in year\n",
    "        arcpy.analysis.Select(in_features=all_locations_thinned.format(year=year_str), out_feature_class=path_known_locations, where_clause=f\"observation_year < {year_str}\")            \n",
    "     \n",
    "        # Distance Accumulation for locations known in year\n",
    "        # The DistanceAccumulation function returns the DistAcc Raster which needs to be saved in a next step.\n",
    "        # The BackDir Raster is directly saved by the function.\n",
    "        dist_acc_raster = arcpy.sa.DistanceAccumulation(path_known_locations, barriers_merged, \"\", cost_600m, \"\", \"BINARY 1 -30 30\", \"\", \"BINARY 1 45\", path_back_dir_raster, \"\", \"\", \"\", \"\", \"\", \"\", \"GEODESIC\")\n",
    "        dist_acc_raster.save(path_dist_acc_raster)\n",
    "\n",
    "\n",
    "DistAcc()\n"
   ]
  },
  {
   "cell_type": "code",
   "execution_count": null,
   "metadata": {},
   "outputs": [],
   "source": []
  }
 ],
 "metadata": {
  "kernelspec": {
   "display_name": "ArcGISPro",
   "language": "Python",
   "name": "python3"
  },
  "language_info": {
   "file_extension": ".py",
   "name": "python",
   "version": "3"
  }
 },
 "nbformat": 4,
 "nbformat_minor": 2
}
